{
  "nbformat": 4,
  "nbformat_minor": 0,
  "metadata": {
    "colab": {
      "provenance": []
    },
    "kernelspec": {
      "name": "python3",
      "display_name": "Python 3"
    },
    "language_info": {
      "name": "python"
    }
  },
  "cells": [
    {
      "cell_type": "markdown",
      "source": [
        "# **Fuzzy Logic Tip Recommender**\n",
        "#### ECE 449 D31 Lab 4\n",
        "**Ayra Qutub** 1708104\n",
        "\n",
        "\n",
        "---\n",
        "This report discusses the design and implementation of a fuzzy inference system (FIS) that recommends a tip percentage based on a multi-dimensional analysis of food quality and service quality. The project builds on the \"Tipper\" example in the skfuzzy library and extends it by implementing a fuzzy tree structure, allowing the program to evaluate individual attributes that collectively define food and service quality. These are then used to recommend a tip amount.\n",
        "\n",
        "\n"
      ],
      "metadata": {
        "id": "FOaGBZZ6MRv3"
      }
    },
    {
      "cell_type": "code",
      "execution_count": null,
      "metadata": {
        "colab": {
          "base_uri": "https://localhost:8080/"
        },
        "id": "Dmcg50SnlIpr",
        "outputId": "1e997373-9ffd-41d4-acb1-78768aed2886"
      },
      "outputs": [
        {
          "output_type": "stream",
          "name": "stdout",
          "text": [
            "Collecting scikit-fuzzy\n",
            "  Downloading scikit_fuzzy-0.5.0-py2.py3-none-any.whl.metadata (2.6 kB)\n",
            "Downloading scikit_fuzzy-0.5.0-py2.py3-none-any.whl (920 kB)\n",
            "\u001b[2K   \u001b[90m━━━━━━━━━━━━━━━━━━━━━━━━━━━━━━━━━━━━━━━━\u001b[0m \u001b[32m920.8/920.8 kB\u001b[0m \u001b[31m8.8 MB/s\u001b[0m eta \u001b[36m0:00:00\u001b[0m\n",
            "\u001b[?25hInstalling collected packages: scikit-fuzzy\n",
            "Successfully installed scikit-fuzzy-0.5.0\n"
          ]
        }
      ],
      "source": [
        "!pip install scikit-fuzzy\n",
        "import skfuzzy as fuzz\n",
        "from skfuzzy import control as ctrl\n",
        "import numpy as np"
      ]
    },
    {
      "cell_type": "markdown",
      "source": [
        "## Determining Food Quality\n",
        "This function evaluates the quality of the food based on three inputs: temperature, flavor, and portion size. These are measured on a scale from 0 to 10, each representing how favorable the user determined these aspects to be, from poor to good.\n",
        "\n",
        "The membership functions are mathematical functions that define how each point in the input space is mapped to a membership value (degree of membership) between 0 and 1. This was done using `trimf()`, which maps to a triangualar shape with specified dimensions.\n",
        "- poor: 0 to 4, peak at 0\n",
        "- average: 2 to 8, peak at 5\n",
        "- good: 6 to 10, peak at 10\n",
        "\n",
        "The membership functions were created with `trimf()` instead of `automf()` because the latter tends to skew values towards the average. When testing using `automf()`, tips calculated would be near the middle (12.5%), even when inputting extreme value ratings (e.g all 0s or all 10s). Setting custom ranges helps to counteract this and results in tip recommendations that are more reflective of the user's opinions.\n",
        "\n",
        "Five fuzzy rules are defined to map combinations of these input qualities to an output food quality.\n",
        "- Rule 1: If any attribute is rated as poor, then the food quality is poor.\n",
        "- Rule 2: If all attributes are average, the food quality is average.\n",
        "- Rule 3: If all attributes are good, the food quality is good.\n",
        "- Rule 4: If any two attributes are good, the food quality is good\n",
        "- Rule 5: If any attribute is average and no attributes are poor, the food quality is average\n",
        "\n",
        "After setting the input values, the `compute()` function calculates a defuzzified score for food quality. This scalar value represents the overall food quality based on user input, serving as an input for the next FIS stage."
      ],
      "metadata": {
        "id": "R63KOnRqNXDj"
      }
    },
    {
      "cell_type": "code",
      "source": [
        "def calc_food_quality(temperature_input, flavor_input, portion_size_input):\n",
        "  ## define variables\n",
        "  temperature = ctrl.Antecedent(np.linspace(0, 10, 11), 'temperature')\n",
        "  flavor = ctrl.Antecedent(np.linspace(0, 10, 11), 'flavor')\n",
        "  portion_size = ctrl.Antecedent(np.linspace(0, 10, 11), 'portion_size')\n",
        "  food_quality = ctrl.Consequent(np.linspace(0, 10, 11), 'food_quality')\n",
        "\n",
        "  ## membership functions\n",
        "  temperature['poor'] = fuzz.trimf(temperature.universe, [0, 0, 4])\n",
        "  temperature['average'] = fuzz.trimf(temperature.universe, [2, 5, 8])\n",
        "  temperature['good'] = fuzz.trimf(temperature.universe, [6, 10, 10])\n",
        "\n",
        "  flavor['poor'] = fuzz.trimf(flavor.universe, [0, 0, 4])\n",
        "  flavor['average'] = fuzz.trimf(flavor.universe, [2, 5, 8])\n",
        "  flavor['good'] = fuzz.trimf(flavor.universe, [6, 10, 10])\n",
        "\n",
        "  portion_size['poor'] = fuzz.trimf(portion_size.universe, [0, 0, 4])\n",
        "  portion_size['average'] = fuzz.trimf(portion_size.universe, [2, 5, 8])\n",
        "  portion_size['good'] = fuzz.trimf(portion_size.universe, [6, 10, 10])\n",
        "\n",
        "  food_quality['poor'] = fuzz.trimf(food_quality.universe, [0, 0, 4])\n",
        "  food_quality['average'] = fuzz.trimf(food_quality.universe, [2, 5, 8])\n",
        "  food_quality['good'] = fuzz.trimf(food_quality.universe, [6, 10, 10])\n",
        "\n",
        "  ## fuzzy rules\n",
        "  rule1_food = ctrl.Rule(temperature['poor'] | flavor['poor'] | portion_size['poor'], food_quality['poor'])\n",
        "  rule2_food = ctrl.Rule(temperature['average'] & flavor['average'] & portion_size['average'], food_quality['average'])\n",
        "  rule3_food = ctrl.Rule(temperature['good'] & flavor['good'] & portion_size['good'], food_quality['good'])\n",
        "  rule4_food = ctrl.Rule((temperature['good'] & flavor['good']) | (flavor['good'] & portion_size['good']) | (temperature['good'] & portion_size['good']), food_quality['good'])\n",
        "  rule5_food = ctrl.Rule((temperature['average'] | flavor['average'] | portion_size['average']) & ~(temperature['poor'] | flavor['poor'] | portion_size['poor']), food_quality['average'])\n",
        "\n",
        "  ## create controller\n",
        "  food_quality_ctrl = ctrl.ControlSystem([rule1_food, rule2_food, rule3_food, rule4_food, rule5_food])\n",
        "  food_sim = ctrl.ControlSystemSimulation(food_quality_ctrl)\n",
        "  food_sim.input['temperature'] = temperature_input\n",
        "  food_sim.input['flavor'] = flavor_input\n",
        "  food_sim.input['portion_size'] = portion_size_input\n",
        "\n",
        "  food_sim.compute()\n",
        "  # print(food_sim.output['food_quality'])\n",
        "  # food_quality.view(sim=food_sim)\n",
        "\n",
        "  return food_sim.output['food_quality']"
      ],
      "metadata": {
        "id": "FqjkPv9oAUts"
      },
      "execution_count": null,
      "outputs": []
    },
    {
      "cell_type": "markdown",
      "source": [
        "## Determining Service Quality\n",
        "This function calculates service quality based on attentiveness, friendliness, and speed, again using a scale from 0 to 10.\n",
        "\n",
        "The membership functions are defined in the same way as above. Five fuzzy rules determine the service quality output:\n",
        "- Rule 1: If any attribute is poor, the service quality is poor\n",
        "- Rule 2: If all attributes are average, the service quality is average\n",
        "- Rule 3: If all attributes are good, the service quality is good.\n",
        "- Rule 4: If any two attributes are good, the service quality is good\n",
        "- Rule 5: If any attribute is average and no attributes are poor, the service quality is average\n",
        "\n",
        "The function then computes a defuzzified service quality score, which is passed to the final `calc_tip` function as an indicator of service quality."
      ],
      "metadata": {
        "id": "Wkjh4sdKe7ji"
      }
    },
    {
      "cell_type": "code",
      "source": [
        "def calc_service_quality(attentiveness_input, friendliness_input, speed_input):\n",
        "  ## define variables\n",
        "  attentiveness= ctrl.Antecedent(np.linspace(0, 10, 11), 'attentiveness')\n",
        "  friendliness = ctrl.Antecedent(np.linspace(0, 10, 11), 'friendliness')\n",
        "  speed = ctrl.Antecedent(np.linspace(0, 10, 11), 'speed')\n",
        "  service_quality = ctrl.Consequent(np.linspace(0, 10, 11),'service_quality')\n",
        "\n",
        "  attentiveness['poor'] = fuzz.trimf(attentiveness.universe, [0, 0, 4])\n",
        "  attentiveness['average'] = fuzz.trimf(attentiveness.universe, [2, 5, 8])\n",
        "  attentiveness['good'] = fuzz.trimf(attentiveness.universe, [6, 10, 10])\n",
        "\n",
        "  friendliness['poor'] = fuzz.trimf(friendliness.universe, [0, 0, 4])\n",
        "  friendliness['average'] = fuzz.trimf(friendliness.universe, [2, 5, 8])\n",
        "  friendliness['good'] = fuzz.trimf(friendliness.universe, [6, 10, 10])\n",
        "\n",
        "  speed['poor'] = fuzz.trimf(speed.universe, [0, 0, 4])\n",
        "  speed['average'] = fuzz.trimf(speed.universe, [2, 5, 8])\n",
        "  speed['good'] = fuzz.trimf(speed.universe, [6, 10, 10])\n",
        "\n",
        "  service_quality['poor'] = fuzz.trimf(service_quality.universe, [0, 0, 4])\n",
        "  service_quality['average'] = fuzz.trimf(service_quality.universe, [2, 5, 8])\n",
        "  service_quality['good'] = fuzz.trimf(service_quality.universe, [6, 10, 10])\n",
        "\n",
        "  ## fuzzy rules\n",
        "  rule1_service = ctrl.Rule(attentiveness['poor'] | friendliness['poor'] | speed['poor'], service_quality['poor'])\n",
        "  rule2_service = ctrl.Rule(attentiveness['average'] & friendliness['average'] & speed['average'], service_quality['average'])\n",
        "  rule3_service = ctrl.Rule(attentiveness['good'] & friendliness['good'] & speed['good'], service_quality['good'])\n",
        "  rule4_service = ctrl.Rule((attentiveness['good'] & friendliness['good']) | (friendliness['good'] & speed['good']) | (attentiveness['good'] & speed['good']), service_quality['good'])\n",
        "  rule5_service = ctrl.Rule((attentiveness['average'] | friendliness['average'] | speed['average']) & ~(attentiveness['poor'] | friendliness['poor'] | speed['poor']), service_quality['average'])\n",
        "\n",
        "  service_quality_ctrl = ctrl.ControlSystem([rule1_service, rule2_service, rule3_service, rule4_service, rule5_service])\n",
        "  service_sim = ctrl.ControlSystemSimulation(service_quality_ctrl)\n",
        "  service_sim.input['attentiveness'] = attentiveness_input\n",
        "  service_sim.input['friendliness'] = friendliness_input\n",
        "  service_sim.input['speed'] = speed_input\n",
        "\n",
        "  service_sim.compute()\n",
        "  # print(service_sim.output['service_quality'])\n",
        "  # service_quality.view(sim=service_sim)\n",
        "\n",
        "  return service_sim.output['service_quality']"
      ],
      "metadata": {
        "id": "jeE3B4EEBj6U"
      },
      "execution_count": null,
      "outputs": []
    },
    {
      "cell_type": "markdown",
      "source": [
        "## Determining Tip Amount\n",
        "This function computes the recommended tip percentage based on the calculated values of food and service quality.\n",
        "\n",
        " The function defines antecedents for food and service quality, each with three fuzzy sets (poor, average, and good). The consequent, *tip*, ranges from 0% to 25%, allowing for a graded scale of tips. The membership functions are defined in the same way as explained earlier.\n",
        "\n",
        " Six fuzzy rules govern the tip calculation:\n",
        " - Rule 1: If both qualities are poor, the tip is low\n",
        " - Rule 2: If both qualities are average, the tip is medium\n",
        " - Rule 3: If both qualities are good, the tip is high\n",
        " - Rule 4: If one quality is good and the other is average, the tip is high\n",
        " - Rule 5: If one quality is good and the other is poor, the tip is medium\n",
        " - Rule 6: If one quality is average and the other is poor, the tip is low\n",
        "\n",
        "Using the inputs from the previous two functions, the defuzzified tip percentage is calculated, providing a recommendation based on the quality metrics.\n"
      ],
      "metadata": {
        "id": "Aa5aRDVyfGRx"
      }
    },
    {
      "cell_type": "code",
      "source": [
        "def calc_tip(food_quality_output, service_quality_output):\n",
        "  food = ctrl.Antecedent(np.linspace(0, 10, 11), 'food')\n",
        "  service = ctrl.Antecedent(np.linspace(0, 10, 11), 'service')\n",
        "  tip = ctrl.Consequent(np.linspace(0, 25, 26), 'tip')\n",
        "\n",
        "  food['poor'] = fuzz.trimf(food.universe, [0, 0, 4])\n",
        "  food['average'] = fuzz.trimf(food.universe, [2, 5, 8])\n",
        "  food['good'] = fuzz.trimf(food.universe, [6, 10, 10])\n",
        "\n",
        "  service['poor'] = fuzz.trimf(service.universe, [0, 0, 4])\n",
        "  service['average'] = fuzz.trimf(service.universe, [2, 5, 8])\n",
        "  service['good'] = fuzz.trimf(service.universe, [6, 10, 10])\n",
        "\n",
        "  tip['low'] = fuzz.trimf(tip.universe, [0, 0, 10])\n",
        "  tip['medium'] = fuzz.trimf(tip.universe, [8, 12.5, 17])\n",
        "  tip['high'] = fuzz.trimf(tip.universe, [16, 25, 25])\n",
        "\n",
        "  rule1_tip = ctrl.Rule(food['poor'] & service['poor'], tip['low'])\n",
        "  rule2_tip = ctrl.Rule(food['average'] & service['average'], tip['medium'])\n",
        "  rule3_tip = ctrl.Rule(food['good'] & service['good'], tip['high'])\n",
        "  rule4_tip = ctrl.Rule((food['good'] & service['average']) | (food['average'] & service['good']), tip['high'])\n",
        "  rule5_tip = ctrl.Rule((food['good'] & service['poor']) | (food['poor'] & service['good']), tip['medium'])\n",
        "  rule6_tip = ctrl.Rule((food['average'] & service['poor']) | (food['poor'] & service['average']), tip['low'])\n",
        "\n",
        "  tip_ctrl = ctrl.ControlSystem([rule1_tip, rule2_tip, rule3_tip, rule4_tip, rule5_tip, rule6_tip])\n",
        "  tip_sim = ctrl.ControlSystemSimulation(tip_ctrl)\n",
        "  tip_sim.input['food'] = food_quality_output\n",
        "  tip_sim.input['service'] = service_quality_output\n",
        "\n",
        "  tip_sim.compute()\n",
        "  # print(tip_sim.output['tip'])\n",
        "  # tip.view(sim=tip_sim)\n",
        "  return tip_sim.output['tip']"
      ],
      "metadata": {
        "id": "QeerODUxCrD7"
      },
      "execution_count": null,
      "outputs": []
    },
    {
      "cell_type": "markdown",
      "source": [
        "## Validating Inputs\n",
        "This function validates that the user input for each quality dimension is a numerical value between 0 and 10. This is critical for ensuring that all inputs to the FIS are within an acceptable range, as values outside of this range would lead to inaccurate or unexpected FIS behavior."
      ],
      "metadata": {
        "id": "SPWSdsGDfJ_b"
      }
    },
    {
      "cell_type": "code",
      "source": [
        "def is_valid_input(value):\n",
        "    try:\n",
        "        value = float(value)\n",
        "        if 0 <= value <= 10:\n",
        "            return value\n",
        "        else:\n",
        "            print(\"Please enter a number between 0 and 10.\")\n",
        "            return None\n",
        "    except ValueError:\n",
        "        print(\"Invalid input. Please enter a valid number.\")\n",
        "        return None"
      ],
      "metadata": {
        "id": "VLWQV8DkE2kq"
      },
      "execution_count": null,
      "outputs": []
    },
    {
      "cell_type": "markdown",
      "source": [
        "## Tip Recommender\n",
        "The `main` function is the pipeline which integrates all other functions, prompting the user to rate food and service aspects on a 0-10 scale and validating each input through is_valid_input.\n",
        "\n",
        "The user is prompted to input ratings for temperature, flavor, portion size (food quality factors), and attentiveness, friendliness, speed (service quality factors). These inputs are passed through `calc_food_quality` and `calc_service_quality`, and the outputs are used by `calc_tip` to compute the recommended tip percentage.\n",
        "\n",
        "After each calculation, the user is asked if they wish to continue, facilitating multiple rounds of tip recommendations if desired."
      ],
      "metadata": {
        "id": "-_L1ry7hfRbQ"
      }
    },
    {
      "cell_type": "code",
      "source": [
        "if __name__ == '__main__':\n",
        "  print(\"Welcome to the tip calculator!\")\n",
        "  while True:\n",
        "    print(\"Please rate the following items on a scale of 0-10:\")\n",
        "    temperature_input = flavor_input = portion_size_input = None\n",
        "    attentiveness_input = friendliness_input = speed_input = None\n",
        "    while temperature_input == None:\n",
        "      temperature_input = is_valid_input(input(\"Food - Temperature: \"))\n",
        "    while flavor_input == None:\n",
        "      flavor_input = is_valid_input(input(\"Food - Flavor: \"))\n",
        "    while portion_size_input == None:\n",
        "      portion_size_input = is_valid_input(input(\"Food - Portion Size: \"))\n",
        "    while attentiveness_input == None:\n",
        "      attentiveness_input = is_valid_input(input(\"Service - Attentiveness: \"))\n",
        "    while friendliness_input == None:\n",
        "      friendliness_input = is_valid_input(input(\"Service - Friendliness: \"))\n",
        "    while speed_input == None:\n",
        "      speed_input = is_valid_input(input(\"Service - Speed: \"))\n",
        "\n",
        "    food_quality_output = calc_food_quality(temperature_input, flavor_input, portion_size_input)\n",
        "    service_quality_output = calc_service_quality(attentiveness_input, friendliness_input, speed_input)\n",
        "    tip_output = calc_tip(food_quality_output, service_quality_output)\n",
        "    print(f\"Your tip should be: {tip_output:.1f}%\")\n",
        "\n",
        "    if input(\"Would you like to calculate another tip? Enter 'yes' to continue: \") != \"yes\":\n",
        "      print(\"Thank you for using the tip calculator!\")\n",
        "      break"
      ],
      "metadata": {
        "colab": {
          "base_uri": "https://localhost:8080/"
        },
        "id": "QfMP0Avx9Ze9",
        "outputId": "a4a0ce48-f34b-452c-f279-10edc3ee1e7c"
      },
      "execution_count": null,
      "outputs": [
        {
          "output_type": "stream",
          "name": "stdout",
          "text": [
            "Welcome to the tip calculator!\n",
            "Please rate the following items on a scale of 0-10:\n",
            "Food - Temperature: 10\n",
            "Food - Flavor: 10\n",
            "Food - Portion Size: 10\n",
            "Service - Attentiveness: 10\n",
            "Service - Friendliness: 10\n",
            "Service - Speed: 10\n",
            "Your tip should be: 21.8%\n",
            "Would you like to calculate another tip? Enter 'yes' to continue: \n",
            "Thank you for using the tip calculator!\n"
          ]
        }
      ]
    },
    {
      "cell_type": "markdown",
      "source": [
        "## Conclusion\n",
        "By breaking down \"quality\" into more measurable attributes, this FIS leverages each dimension's fuzzy logic to address the \"curse of dimensionality\" in multi-dimensional rule-based systems.\n",
        "\n",
        "The fuzzy tree structure effectively reduces complexity by combining inputs through intermediate FIS stages, which ensures that the final recommendation is both interpretable and computationally feasible. The chosen architecture resembles a hierarchical fuzzy system, where food and service quality evaluations lead to a final tip recommendation. This modular approach simplifies rule management, as only a subset of all possible rules is needed at each FIS level."
      ],
      "metadata": {
        "id": "8YDHpssWnigk"
      }
    }
  ]
}